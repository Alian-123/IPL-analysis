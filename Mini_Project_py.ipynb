{
  "nbformat": 4,
  "nbformat_minor": 0,
  "metadata": {
    "colab": {
      "provenance": [],
      "authorship_tag": "ABX9TyM3g2opJRrrgeqGM5iuPyAY",
      "include_colab_link": true
    },
    "kernelspec": {
      "name": "python3",
      "display_name": "Python 3"
    },
    "language_info": {
      "name": "python"
    }
  },
  "cells": [
    {
      "cell_type": "markdown",
      "metadata": {
        "id": "view-in-github",
        "colab_type": "text"
      },
      "source": [
        "<a href=\"https://colab.research.google.com/github/Alian-123/IPL-analysis/blob/main/Mini_Project_py.ipynb\" target=\"_parent\"><img src=\"https://colab.research.google.com/assets/colab-badge.svg\" alt=\"Open In Colab\"/></a>"
      ]
    },
    {
      "cell_type": "markdown",
      "source": [
        "**Bank Account System**"
      ],
      "metadata": {
        "id": "oBSmUp7CrKSA"
      }
    },
    {
      "cell_type": "markdown",
      "source": [
        "Create a simple bank system with deposit, withdraw, and balance features.\n"
      ],
      "metadata": {
        "id": "PdImCzZBrhdo"
      }
    },
    {
      "cell_type": "code",
      "source": [
        "class BankAccount:\n",
        "    def __init__(self, owner, balance=0):\n",
        "        self.owner = owner\n",
        "        self.balance = balance\n",
        "\n",
        "    def deposit(self, amount):\n",
        "        self.balance += amount\n",
        "        print(f\"Deposited ₹{amount}. Current Balance: ₹{self.balance}\")\n",
        "\n",
        "    def withdraw(self, amount):\n",
        "        if amount > self.balance:\n",
        "            print(\"Insufficient balance ⚠️\")\n",
        "        else:\n",
        "            self.balance -= amount\n",
        "            print(f\"Withdrew ₹{amount}. Remaining Balance: ₹{self.balance}\")\n",
        "\n",
        "# Create account object\n",
        "account1 = BankAccount(\"Omkar\", 1000)\n",
        "\n",
        "account1.deposit(500)\n",
        "account1.withdraw(200)\n",
        "account1.withdraw(2000)\n"
      ],
      "metadata": {
        "colab": {
          "base_uri": "https://localhost:8080/"
        },
        "id": "GooGbK-BrkWp",
        "outputId": "035a1712-4167-4ea7-83e6-85c7ba610d63"
      },
      "execution_count": null,
      "outputs": [
        {
          "output_type": "stream",
          "name": "stdout",
          "text": [
            "Deposited ₹500. Current Balance: ₹1500\n",
            "Withdrew ₹200. Remaining Balance: ₹1300\n",
            "Insufficient balance ⚠️\n"
          ]
        }
      ]
    },
    {
      "cell_type": "code",
      "source": [],
      "metadata": {
        "id": "93stxDkfrYYy"
      },
      "execution_count": null,
      "outputs": []
    }
  ]
}